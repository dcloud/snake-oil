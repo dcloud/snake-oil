{
 "cells": [
  {
   "cell_type": "markdown",
   "metadata": {},
   "source": [
    "# 0.6.7 Mini-search engine\n",
    "\n",
    "This looks like an old class exercise. Build an inverse search index."
   ]
  },
  {
   "cell_type": "markdown",
   "metadata": {},
   "source": [
    "### Task 0.6.6"
   ]
  },
  {
   "cell_type": "code",
   "execution_count": 8,
   "metadata": {
    "collapsed": true
   },
   "outputs": [],
   "source": [
    "def makeInverseIndex(strlist):\n",
    "    index = {}\n",
    "    for i, doc in enumerate(strlist):\n",
    "        for w in doc.split():\n",
    "            if w not in index:\n",
    "                index[w] = {i}\n",
    "            else:\n",
    "                index[w].add(i)\n",
    "    return index"
   ]
  },
  {
   "cell_type": "markdown",
   "metadata": {},
   "source": [
    "### Task 0.6.7"
   ]
  },
  {
   "cell_type": "code",
   "execution_count": 63,
   "metadata": {
    "collapsed": false
   },
   "outputs": [],
   "source": [
    "def orSearch(inverseIndex, query):\n",
    "    return {x for q in query if q in inverseIndex for x in inverseIndex[q]}"
   ]
  },
  {
   "cell_type": "markdown",
   "metadata": {},
   "source": [
    "### Task 0.6.8"
   ]
  },
  {
   "cell_type": "code",
   "execution_count": 64,
   "metadata": {
    "collapsed": false
   },
   "outputs": [],
   "source": [
    "def andSearch(inverseIndex, query):\n",
    "    match_sets = (inverseIndex[q] for q in query if q in inverseIndex)\n",
    "    result = next(match_sets)\n",
    "    for ms in match_sets:\n",
    "        result &= ms\n",
    "    return result"
   ]
  },
  {
   "cell_type": "code",
   "execution_count": 69,
   "metadata": {
    "collapsed": false
   },
   "outputs": [
    {
     "name": "stdout",
     "output_type": "stream",
     "text": [
      "['Clinton', 'American', 'political']\n",
      "{3, 7, 10, 12, 14, 19, 20, 22, 28, 30, 32, 33, 34, 35, 36, 38, 39, 40, 43, 44, 47, 48}\n",
      "{44, 38}\n"
     ]
    }
   ],
   "source": [
    "with open('resources/stories_small.txt', 'r') as fp:\n",
    "    inverseIndex = makeInverseIndex(fp.readlines())\n",
    "    searchTerms = ['Clinton', 'American', 'political']\n",
    "    print(searchTerms)\n",
    "    print(orSearch(inverseIndex, searchTerms))\n",
    "    print(andSearch(inverseIndex, searchTerms))"
   ]
  },
  {
   "cell_type": "code",
   "execution_count": 70,
   "metadata": {
    "collapsed": false
   },
   "outputs": [
    {
     "name": "stdout",
     "output_type": "stream",
     "text": [
      "['Clinton', 'American', 'political']\n",
      "{3, 7, 10, 12, 14, 19, 20, 22, 28, 30, 32, 33, 34, 35, 36, 38, 39, 40, 43, 44, 47, 48, 51, 54, 55, 58, 59, 62, 64, 65, 66, 67, 68, 69, 71, 72, 74, 75, 76, 78, 80, 81, 83, 85, 86, 88, 89, 92, 94, 96, 97, 98, 99, 100, 102, 103, 106, 107, 109, 110, 115, 117, 122, 123, 124, 125, 128, 130, 132, 133, 135, 137, 139, 140, 142, 146, 148, 152, 153, 155, 156, 158, 160, 161, 163, 164, 167, 168, 169, 170, 171, 172, 173, 175, 176, 177, 178, 180, 181, 182, 183, 184, 185, 187, 188, 190, 193, 194, 195, 196, 197, 198, 200, 202, 203, 205, 207, 208, 211, 212, 214, 215, 216, 217, 220, 221, 223, 224, 227, 228, 231, 232, 233, 234, 235, 237, 239, 244, 246, 247, 248, 252, 253, 254, 255, 258, 259, 265, 268, 270, 272, 273, 274, 275, 280, 281, 282, 283, 284, 286, 288, 289, 290, 291, 292, 293, 294, 295, 296, 297, 299, 301, 303, 304, 306, 307, 308, 309, 310, 311, 312, 314, 315, 317, 319, 322, 323, 326, 327, 328, 331, 332, 335, 337, 339, 345, 348, 349, 350, 353, 354, 356, 358, 361, 363, 364, 366, 367, 368, 370, 372, 374, 375, 376, 377, 378, 379, 380, 381, 383, 384, 385, 386, 388, 389, 390, 391, 392, 393, 399, 400, 401, 403, 404, 406, 407, 408, 410, 412, 413, 414, 415, 416, 418, 419, 421, 424, 427, 428, 429, 431, 432, 433, 434, 435, 436, 437, 438, 440, 441, 442, 444, 445, 446, 447, 448, 449, 450, 451, 452, 454, 455, 456, 457, 458, 459, 460, 461, 463, 465, 466, 467, 468, 470, 471, 472, 473, 475, 477, 479, 480, 481, 482, 483, 484, 485, 487, 489, 490, 493, 494, 495, 496, 497, 498, 499, 500, 501, 502, 505, 506, 507, 508, 509, 512, 514, 517, 518, 519, 521, 522, 523, 525, 527, 528, 529, 530, 531, 532, 533, 536, 537, 539, 540, 541, 542, 545, 546, 547, 548, 550, 551, 552, 553, 554, 555, 556, 557, 558, 559, 560, 561, 566, 574, 577, 579, 582, 584, 586, 591, 592, 599, 600, 601, 605, 606, 607, 608, 609, 610, 611, 612, 613, 615, 619, 620, 621, 626, 628, 630, 633, 634, 636, 637, 638, 639, 644, 645, 646, 647, 648, 649, 650, 652, 654, 655, 656, 657, 658, 659, 660, 661, 662, 663, 664, 665, 668, 669, 670, 671, 672, 673, 675, 676, 677, 679, 680, 681, 682, 684, 685, 686, 689, 690, 691, 694, 695, 699, 700, 701, 702, 706, 707, 708, 709, 710, 711, 715, 721, 722, 723, 724, 728, 731, 735, 736, 742, 747, 748, 749, 750, 751, 752, 753, 754, 756, 758, 759, 760, 761, 762, 763, 765, 766, 767, 768, 769, 770, 772, 773, 775, 778, 780, 781, 782, 783, 784, 785, 787, 790, 793, 794, 795, 796, 798, 799, 807, 809, 811, 813, 815, 816, 818, 819, 822, 824, 825, 827, 830, 831, 834, 835, 842, 843, 847, 848, 849, 850, 853, 854, 860, 861, 862, 864, 865, 866, 868, 870, 873, 874, 875, 876, 877, 878, 879, 882, 883, 884, 885, 886, 889, 890, 892, 893, 894, 897, 898, 899, 905, 909, 910, 911, 912, 913, 915, 917, 918, 923, 925, 927, 930, 931, 938, 939, 940, 941, 945, 949, 951, 952, 953, 954, 956, 958, 960, 962, 963, 964, 966, 967, 970, 973, 974, 975, 976, 977, 981, 983, 985, 986, 987, 988, 989, 990, 993, 994, 996, 999, 1000, 1004, 1005, 1006, 1008, 1009, 1010, 1011, 1017, 1018, 1019, 1020, 1022, 1024, 1025, 1028, 1031, 1033, 1034, 1035, 1036, 1037, 1038, 1039, 1040, 1041, 1042, 1043, 1044, 1045, 1046, 1047, 1049, 1050, 1051, 1052, 1053, 1054, 1055, 1056, 1057, 1058, 1059, 1060, 1061, 1062, 1063, 1064, 1065, 1066, 1067, 1068, 1069, 1071, 1074, 1077, 1079, 1081, 1084, 1085, 1087, 1090, 1091, 1096, 1098}\n",
      "{897, 770, 386, 509, 645, 137, 1038, 1039, 782, 399, 1042, 146, 658, 660, 404, 410, 284, 412, 158, 416, 1058, 38, 679, 552, 681, 297, 809, 44, 685, 427, 428, 940, 432, 691, 307, 310, 58, 445, 447, 323, 200, 202, 970, 975, 85, 470, 599, 88, 217, 606, 353, 98, 354, 866, 868, 870, 235, 496, 626, 375, 505, 765, 1022}\n"
     ]
    }
   ],
   "source": [
    "with open('resources/stories_big.txt', 'r') as fp:\n",
    "    inverseIndex = makeInverseIndex(fp.readlines())\n",
    "    searchTerms = ['Clinton', 'American', 'political']\n",
    "    print(searchTerms)\n",
    "    print(orSearch(inverseIndex, searchTerms))\n",
    "    print(andSearch(inverseIndex, searchTerms))"
   ]
  }
 ],
 "metadata": {
  "kernelspec": {
   "display_name": "Python 3",
   "language": "python",
   "name": "python3"
  },
  "language_info": {
   "codemirror_mode": {
    "name": "ipython",
    "version": 3
   },
   "file_extension": ".py",
   "mimetype": "text/x-python",
   "name": "python",
   "nbconvert_exporter": "python",
   "pygments_lexer": "ipython3",
   "version": "3.5.0"
  }
 },
 "nbformat": 4,
 "nbformat_minor": 0
}
